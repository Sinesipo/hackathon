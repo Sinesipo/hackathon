{
  "nbformat": 4,
  "nbformat_minor": 0,
  "metadata": {
    "colab": {
      "name": "Classification-Hackathon-1074.ipynb",
      "version": "0.3.2",
      "provenance": [],
      "toc_visible": true,
      "include_colab_link": true
    },
    "language_info": {
      "codemirror_mode": {
        "name": "ipython",
        "version": 3
      },
      "file_extension": ".py",
      "mimetype": "text/x-python",
      "name": "python",
      "nbconvert_exporter": "python",
      "pygments_lexer": "ipython3",
      "version": "3.6.8"
    },
    "kernelspec": {
      "name": "python3",
      "display_name": "Python 3"
    },
    "accelerator": "GPU"
  },
  "cells": [
    {
      "cell_type": "markdown",
      "metadata": {
        "id": "view-in-github",
        "colab_type": "text"
      },
      "source": [
        "<a href=\"https://colab.research.google.com/github/Sinesipo/myPack/blob/master/Classification_Hackathon_1074.ipynb\" target=\"_parent\"><img src=\"https://colab.research.google.com/assets/colab-badge.svg\" alt=\"Open In Colab\"/></a>"
      ]
    },
    {
      "cell_type": "code",
      "metadata": {
        "id": "GgXNoadklgT1",
        "colab_type": "code",
        "outputId": "062a7572-22bc-498e-bdae-3a532a6494a8",
        "colab": {
          "base_uri": "https://localhost:8080/",
          "height": 34
        }
      },
      "source": [
        "# Run this cell to mount your Google Drive.\n",
        "from google.colab import drive\n",
        "drive.mount('/content/drive')"
      ],
      "execution_count": 30,
      "outputs": [
        {
          "output_type": "stream",
          "text": [
            "Drive already mounted at /content/drive; to attempt to forcibly remount, call drive.mount(\"/content/drive\", force_remount=True).\n"
          ],
          "name": "stdout"
        }
      ]
    },
    {
      "cell_type": "markdown",
      "metadata": {
        "id": "zuPOiW3MhtOo",
        "colab_type": "text"
      },
      "source": [
        "# Classification Hackathon\n",
        "\n",
        "For the specifications for today's Hackathon use the slides linked below. Just note a couple things before you start:\n",
        "* Use your full name and ```_EDSA``` as your Zindi username.\n",
        "* The dataset for this challenge is very large and will take a long time to process. In order to use your time wisely, only use a small subset of the data to figure out how to solve this challenge, and once you're happy with that, train your model with the entire dataset.\n",
        "* This Zindi challenge is tough. This will be taken into account when the supervisors mark your work. Do not worry too much about your placement on the leaderboard. In the Regression Hackathon ```laura_the_explorer``` was in first place but is outside the top 100 in this challenge\n",
        "* To submit your Hackathon to Athena, zip your notebook and your submission csv file, and upload that here. Note that your report card will say you have 100% once you submit your file.\n",
        "* Please attach the *Honour code* (below) cell to your notebook. \n",
        "\n",
        "Further instructions found on these slides: https://docs.google.com/presentation/d/1AbVndI5aOd27Jm0E1qNoYzRtWiZ6-DE3BDE0djGxzIk/edit?usp=sharing\n",
        "\n",
        "** Good luck! **"
      ]
    },
    {
      "cell_type": "markdown",
      "metadata": {
        "id": "bMltGdHAhtOp",
        "colab_type": "text"
      },
      "source": [
        "## Honour Code\n",
        "I *Sinesipo Mbasa, confirm - by submitting my - that the solutions in this notebook are a result of my own work and that I abide by the EDSA honour code (https://drive.google.com/file/d/1QDCjGZJ8-FmJE3bZdIQNwnJyQKPhHZBn/view?usp=sharing).\n",
        "\n",
        "Non-compliance with the honour code constitutes a material breach of contract."
      ]
    },
    {
      "cell_type": "code",
      "metadata": {
        "id": "l8DKRLULmDXe",
        "colab_type": "code",
        "colab": {}
      },
      "source": [
        "import numpy as np\n",
        "import pandas as pd"
      ],
      "execution_count": 0,
      "outputs": []
    },
    {
      "cell_type": "code",
      "metadata": {
        "id": "J0GGv69MmLdT",
        "colab_type": "code",
        "colab": {}
      },
      "source": [
        "train = pd.read_csv('/content/drive/My Drive/Fraud detection/training.csv')\n",
        "test = pd.read_csv('/content/drive/My Drive/Fraud detection/test (1).csv')\n",
        "df = pd.concat([train, test], axis=0, sort=True)\n",
        "\n",
        "#df = pd.concat((train.loc[:, 'TransactionId': 'PricingStrategy'], test.loc[:,'TransactionId':'PricingStrategy']))"
      ],
      "execution_count": 0,
      "outputs": []
    },
    {
      "cell_type": "code",
      "metadata": {
        "id": "XTJrH32qnfDk",
        "colab_type": "code",
        "colab": {}
      },
      "source": [
        "#train.head()"
      ],
      "execution_count": 0,
      "outputs": []
    },
    {
      "cell_type": "code",
      "metadata": {
        "id": "thpSYFx9q2Qd",
        "colab_type": "code",
        "colab": {
          "base_uri": "https://localhost:8080/",
          "height": 34
        },
        "outputId": "2bec5436-ec2e-4f99-c6af-f32b3a84f879"
      },
      "source": [
        "train.shape"
      ],
      "execution_count": 154,
      "outputs": [
        {
          "output_type": "execute_result",
          "data": {
            "text/plain": [
              "(95662, 16)"
            ]
          },
          "metadata": {
            "tags": []
          },
          "execution_count": 154
        }
      ]
    },
    {
      "cell_type": "code",
      "metadata": {
        "id": "epX7SKNln9FD",
        "colab_type": "code",
        "outputId": "4b93cd18-8c2a-423b-cd60-0f7be47073f5",
        "colab": {
          "base_uri": "https://localhost:8080/",
          "height": 224
        }
      },
      "source": [
        "test.head()"
      ],
      "execution_count": 155,
      "outputs": [
        {
          "output_type": "execute_result",
          "data": {
            "text/html": [
              "<div>\n",
              "<style scoped>\n",
              "    .dataframe tbody tr th:only-of-type {\n",
              "        vertical-align: middle;\n",
              "    }\n",
              "\n",
              "    .dataframe tbody tr th {\n",
              "        vertical-align: top;\n",
              "    }\n",
              "\n",
              "    .dataframe thead th {\n",
              "        text-align: right;\n",
              "    }\n",
              "</style>\n",
              "<table border=\"1\" class=\"dataframe\">\n",
              "  <thead>\n",
              "    <tr style=\"text-align: right;\">\n",
              "      <th></th>\n",
              "      <th>TransactionId</th>\n",
              "      <th>BatchId</th>\n",
              "      <th>AccountId</th>\n",
              "      <th>SubscriptionId</th>\n",
              "      <th>CustomerId</th>\n",
              "      <th>CurrencyCode</th>\n",
              "      <th>CountryCode</th>\n",
              "      <th>ProviderId</th>\n",
              "      <th>ProductId</th>\n",
              "      <th>ProductCategory</th>\n",
              "      <th>ChannelId</th>\n",
              "      <th>Amount</th>\n",
              "      <th>Value</th>\n",
              "      <th>TransactionStartTime</th>\n",
              "      <th>PricingStrategy</th>\n",
              "    </tr>\n",
              "  </thead>\n",
              "  <tbody>\n",
              "    <tr>\n",
              "      <th>0</th>\n",
              "      <td>TransactionId_50600</td>\n",
              "      <td>BatchId_35028</td>\n",
              "      <td>AccountId_2441</td>\n",
              "      <td>SubscriptionId_4426</td>\n",
              "      <td>CustomerId_2857</td>\n",
              "      <td>UGX</td>\n",
              "      <td>256</td>\n",
              "      <td>ProviderId_5</td>\n",
              "      <td>ProductId_3</td>\n",
              "      <td>airtime</td>\n",
              "      <td>ChannelId_3</td>\n",
              "      <td>1000.0</td>\n",
              "      <td>1000</td>\n",
              "      <td>2019-02-13T10:01:40Z</td>\n",
              "      <td>4</td>\n",
              "    </tr>\n",
              "    <tr>\n",
              "      <th>1</th>\n",
              "      <td>TransactionId_95109</td>\n",
              "      <td>BatchId_45139</td>\n",
              "      <td>AccountId_3439</td>\n",
              "      <td>SubscriptionId_2643</td>\n",
              "      <td>CustomerId_3874</td>\n",
              "      <td>UGX</td>\n",
              "      <td>256</td>\n",
              "      <td>ProviderId_5</td>\n",
              "      <td>ProductId_15</td>\n",
              "      <td>financial_services</td>\n",
              "      <td>ChannelId_3</td>\n",
              "      <td>2000.0</td>\n",
              "      <td>2000</td>\n",
              "      <td>2019-02-13T10:02:12Z</td>\n",
              "      <td>2</td>\n",
              "    </tr>\n",
              "    <tr>\n",
              "      <th>2</th>\n",
              "      <td>TransactionId_47357</td>\n",
              "      <td>BatchId_74887</td>\n",
              "      <td>AccountId_4841</td>\n",
              "      <td>SubscriptionId_3829</td>\n",
              "      <td>CustomerId_2857</td>\n",
              "      <td>UGX</td>\n",
              "      <td>256</td>\n",
              "      <td>ProviderId_4</td>\n",
              "      <td>ProductId_6</td>\n",
              "      <td>financial_services</td>\n",
              "      <td>ChannelId_2</td>\n",
              "      <td>-50.0</td>\n",
              "      <td>50</td>\n",
              "      <td>2019-02-13T10:02:30Z</td>\n",
              "      <td>2</td>\n",
              "    </tr>\n",
              "    <tr>\n",
              "      <th>3</th>\n",
              "      <td>TransactionId_28185</td>\n",
              "      <td>BatchId_11025</td>\n",
              "      <td>AccountId_2685</td>\n",
              "      <td>SubscriptionId_4626</td>\n",
              "      <td>CustomerId_3105</td>\n",
              "      <td>UGX</td>\n",
              "      <td>256</td>\n",
              "      <td>ProviderId_5</td>\n",
              "      <td>ProductId_10</td>\n",
              "      <td>airtime</td>\n",
              "      <td>ChannelId_3</td>\n",
              "      <td>3000.0</td>\n",
              "      <td>3000</td>\n",
              "      <td>2019-02-13T10:02:38Z</td>\n",
              "      <td>4</td>\n",
              "    </tr>\n",
              "    <tr>\n",
              "      <th>4</th>\n",
              "      <td>TransactionId_22140</td>\n",
              "      <td>BatchId_29804</td>\n",
              "      <td>AccountId_4841</td>\n",
              "      <td>SubscriptionId_3829</td>\n",
              "      <td>CustomerId_3105</td>\n",
              "      <td>UGX</td>\n",
              "      <td>256</td>\n",
              "      <td>ProviderId_4</td>\n",
              "      <td>ProductId_6</td>\n",
              "      <td>financial_services</td>\n",
              "      <td>ChannelId_2</td>\n",
              "      <td>-60.0</td>\n",
              "      <td>60</td>\n",
              "      <td>2019-02-13T10:02:58Z</td>\n",
              "      <td>2</td>\n",
              "    </tr>\n",
              "  </tbody>\n",
              "</table>\n",
              "</div>"
            ],
            "text/plain": [
              "         TransactionId        BatchId  ...  TransactionStartTime PricingStrategy\n",
              "0  TransactionId_50600  BatchId_35028  ...  2019-02-13T10:01:40Z               4\n",
              "1  TransactionId_95109  BatchId_45139  ...  2019-02-13T10:02:12Z               2\n",
              "2  TransactionId_47357  BatchId_74887  ...  2019-02-13T10:02:30Z               2\n",
              "3  TransactionId_28185  BatchId_11025  ...  2019-02-13T10:02:38Z               4\n",
              "4  TransactionId_22140  BatchId_29804  ...  2019-02-13T10:02:58Z               2\n",
              "\n",
              "[5 rows x 15 columns]"
            ]
          },
          "metadata": {
            "tags": []
          },
          "execution_count": 155
        }
      ]
    },
    {
      "cell_type": "code",
      "metadata": {
        "id": "eceRqQ3zq6E2",
        "colab_type": "code",
        "colab": {
          "base_uri": "https://localhost:8080/",
          "height": 34
        },
        "outputId": "cbe17ae8-87d0-42df-dca0-ee0d128e7224"
      },
      "source": [
        "test.shape"
      ],
      "execution_count": 156,
      "outputs": [
        {
          "output_type": "execute_result",
          "data": {
            "text/plain": [
              "(45019, 15)"
            ]
          },
          "metadata": {
            "tags": []
          },
          "execution_count": 156
        }
      ]
    },
    {
      "cell_type": "code",
      "metadata": {
        "id": "91Wv9bkZtcZ_",
        "colab_type": "code",
        "colab": {
          "base_uri": "https://localhost:8080/",
          "height": 34
        },
        "outputId": "99e3618a-5343-41bd-945a-9e5c568dcca7"
      },
      "source": [
        "df.shape"
      ],
      "execution_count": 157,
      "outputs": [
        {
          "output_type": "execute_result",
          "data": {
            "text/plain": [
              "(140681, 16)"
            ]
          },
          "metadata": {
            "tags": []
          },
          "execution_count": 157
        }
      ]
    },
    {
      "cell_type": "code",
      "metadata": {
        "id": "2jQGAY28rgsR",
        "colab_type": "code",
        "colab": {
          "base_uri": "https://localhost:8080/",
          "height": 224
        },
        "outputId": "a2415f56-3954-49ac-85ee-817d342b85e9"
      },
      "source": [
        "df.head()"
      ],
      "execution_count": 158,
      "outputs": [
        {
          "output_type": "execute_result",
          "data": {
            "text/html": [
              "<div>\n",
              "<style scoped>\n",
              "    .dataframe tbody tr th:only-of-type {\n",
              "        vertical-align: middle;\n",
              "    }\n",
              "\n",
              "    .dataframe tbody tr th {\n",
              "        vertical-align: top;\n",
              "    }\n",
              "\n",
              "    .dataframe thead th {\n",
              "        text-align: right;\n",
              "    }\n",
              "</style>\n",
              "<table border=\"1\" class=\"dataframe\">\n",
              "  <thead>\n",
              "    <tr style=\"text-align: right;\">\n",
              "      <th></th>\n",
              "      <th>AccountId</th>\n",
              "      <th>Amount</th>\n",
              "      <th>BatchId</th>\n",
              "      <th>ChannelId</th>\n",
              "      <th>CountryCode</th>\n",
              "      <th>CurrencyCode</th>\n",
              "      <th>CustomerId</th>\n",
              "      <th>FraudResult</th>\n",
              "      <th>PricingStrategy</th>\n",
              "      <th>ProductCategory</th>\n",
              "      <th>ProductId</th>\n",
              "      <th>ProviderId</th>\n",
              "      <th>SubscriptionId</th>\n",
              "      <th>TransactionId</th>\n",
              "      <th>TransactionStartTime</th>\n",
              "      <th>Value</th>\n",
              "    </tr>\n",
              "  </thead>\n",
              "  <tbody>\n",
              "    <tr>\n",
              "      <th>0</th>\n",
              "      <td>AccountId_3957</td>\n",
              "      <td>1000.0</td>\n",
              "      <td>BatchId_36123</td>\n",
              "      <td>ChannelId_3</td>\n",
              "      <td>256</td>\n",
              "      <td>UGX</td>\n",
              "      <td>CustomerId_4406</td>\n",
              "      <td>0.0</td>\n",
              "      <td>2</td>\n",
              "      <td>airtime</td>\n",
              "      <td>ProductId_10</td>\n",
              "      <td>ProviderId_6</td>\n",
              "      <td>SubscriptionId_887</td>\n",
              "      <td>TransactionId_76871</td>\n",
              "      <td>2018-11-15T02:18:49Z</td>\n",
              "      <td>1000</td>\n",
              "    </tr>\n",
              "    <tr>\n",
              "      <th>1</th>\n",
              "      <td>AccountId_4841</td>\n",
              "      <td>-20.0</td>\n",
              "      <td>BatchId_15642</td>\n",
              "      <td>ChannelId_2</td>\n",
              "      <td>256</td>\n",
              "      <td>UGX</td>\n",
              "      <td>CustomerId_4406</td>\n",
              "      <td>0.0</td>\n",
              "      <td>2</td>\n",
              "      <td>financial_services</td>\n",
              "      <td>ProductId_6</td>\n",
              "      <td>ProviderId_4</td>\n",
              "      <td>SubscriptionId_3829</td>\n",
              "      <td>TransactionId_73770</td>\n",
              "      <td>2018-11-15T02:19:08Z</td>\n",
              "      <td>20</td>\n",
              "    </tr>\n",
              "    <tr>\n",
              "      <th>2</th>\n",
              "      <td>AccountId_4229</td>\n",
              "      <td>500.0</td>\n",
              "      <td>BatchId_53941</td>\n",
              "      <td>ChannelId_3</td>\n",
              "      <td>256</td>\n",
              "      <td>UGX</td>\n",
              "      <td>CustomerId_4683</td>\n",
              "      <td>0.0</td>\n",
              "      <td>2</td>\n",
              "      <td>airtime</td>\n",
              "      <td>ProductId_1</td>\n",
              "      <td>ProviderId_6</td>\n",
              "      <td>SubscriptionId_222</td>\n",
              "      <td>TransactionId_26203</td>\n",
              "      <td>2018-11-15T02:44:21Z</td>\n",
              "      <td>500</td>\n",
              "    </tr>\n",
              "    <tr>\n",
              "      <th>3</th>\n",
              "      <td>AccountId_648</td>\n",
              "      <td>20000.0</td>\n",
              "      <td>BatchId_102363</td>\n",
              "      <td>ChannelId_3</td>\n",
              "      <td>256</td>\n",
              "      <td>UGX</td>\n",
              "      <td>CustomerId_988</td>\n",
              "      <td>0.0</td>\n",
              "      <td>2</td>\n",
              "      <td>utility_bill</td>\n",
              "      <td>ProductId_21</td>\n",
              "      <td>ProviderId_1</td>\n",
              "      <td>SubscriptionId_2185</td>\n",
              "      <td>TransactionId_380</td>\n",
              "      <td>2018-11-15T03:32:55Z</td>\n",
              "      <td>21800</td>\n",
              "    </tr>\n",
              "    <tr>\n",
              "      <th>4</th>\n",
              "      <td>AccountId_4841</td>\n",
              "      <td>-644.0</td>\n",
              "      <td>BatchId_38780</td>\n",
              "      <td>ChannelId_2</td>\n",
              "      <td>256</td>\n",
              "      <td>UGX</td>\n",
              "      <td>CustomerId_988</td>\n",
              "      <td>0.0</td>\n",
              "      <td>2</td>\n",
              "      <td>financial_services</td>\n",
              "      <td>ProductId_6</td>\n",
              "      <td>ProviderId_4</td>\n",
              "      <td>SubscriptionId_3829</td>\n",
              "      <td>TransactionId_28195</td>\n",
              "      <td>2018-11-15T03:34:21Z</td>\n",
              "      <td>644</td>\n",
              "    </tr>\n",
              "  </tbody>\n",
              "</table>\n",
              "</div>"
            ],
            "text/plain": [
              "        AccountId   Amount  ...  TransactionStartTime  Value\n",
              "0  AccountId_3957   1000.0  ...  2018-11-15T02:18:49Z   1000\n",
              "1  AccountId_4841    -20.0  ...  2018-11-15T02:19:08Z     20\n",
              "2  AccountId_4229    500.0  ...  2018-11-15T02:44:21Z    500\n",
              "3   AccountId_648  20000.0  ...  2018-11-15T03:32:55Z  21800\n",
              "4  AccountId_4841   -644.0  ...  2018-11-15T03:34:21Z    644\n",
              "\n",
              "[5 rows x 16 columns]"
            ]
          },
          "metadata": {
            "tags": []
          },
          "execution_count": 158
        }
      ]
    },
    {
      "cell_type": "markdown",
      "metadata": {
        "id": "2a4xnfOqqHxO",
        "colab_type": "text"
      },
      "source": [
        "first check if there are any missing values on our data sets."
      ]
    },
    {
      "cell_type": "code",
      "metadata": {
        "id": "DaZClF8noDWj",
        "colab_type": "code",
        "colab": {
          "base_uri": "https://localhost:8080/",
          "height": 306
        },
        "outputId": "5324d5b6-7381-4aad-cb6d-08a787e736ad"
      },
      "source": [
        "train.isnull().sum()"
      ],
      "execution_count": 159,
      "outputs": [
        {
          "output_type": "execute_result",
          "data": {
            "text/plain": [
              "TransactionId           0\n",
              "BatchId                 0\n",
              "AccountId               0\n",
              "SubscriptionId          0\n",
              "CustomerId              0\n",
              "CurrencyCode            0\n",
              "CountryCode             0\n",
              "ProviderId              0\n",
              "ProductId               0\n",
              "ProductCategory         0\n",
              "ChannelId               0\n",
              "Amount                  0\n",
              "Value                   0\n",
              "TransactionStartTime    0\n",
              "PricingStrategy         0\n",
              "FraudResult             0\n",
              "dtype: int64"
            ]
          },
          "metadata": {
            "tags": []
          },
          "execution_count": 159
        }
      ]
    },
    {
      "cell_type": "code",
      "metadata": {
        "id": "ACM6t2ippMES",
        "colab_type": "code",
        "colab": {
          "base_uri": "https://localhost:8080/",
          "height": 289
        },
        "outputId": "5a361b3d-789d-401f-f99e-faf1b3ebbbb6"
      },
      "source": [
        "test.isnull().sum()"
      ],
      "execution_count": 160,
      "outputs": [
        {
          "output_type": "execute_result",
          "data": {
            "text/plain": [
              "TransactionId           0\n",
              "BatchId                 0\n",
              "AccountId               0\n",
              "SubscriptionId          0\n",
              "CustomerId              0\n",
              "CurrencyCode            0\n",
              "CountryCode             0\n",
              "ProviderId              0\n",
              "ProductId               0\n",
              "ProductCategory         0\n",
              "ChannelId               0\n",
              "Amount                  0\n",
              "Value                   0\n",
              "TransactionStartTime    0\n",
              "PricingStrategy         0\n",
              "dtype: int64"
            ]
          },
          "metadata": {
            "tags": []
          },
          "execution_count": 160
        }
      ]
    },
    {
      "cell_type": "markdown",
      "metadata": {
        "id": "7x_dg4SCp72d",
        "colab_type": "text"
      },
      "source": [
        "there is no missing values on both data sets"
      ]
    },
    {
      "cell_type": "code",
      "metadata": {
        "id": "gPDEplgCOyWa",
        "colab_type": "code",
        "colab": {}
      },
      "source": [
        "df['Year'] = pd.DatetimeIndex(df['TransactionStartTime']).year\n",
        "\n",
        "# Drop the TransactionStartTime  column because year I just need the year\n",
        "df.drop(['TransactionStartTime'], axis = 1, inplace = True)"
      ],
      "execution_count": 0,
      "outputs": []
    },
    {
      "cell_type": "code",
      "metadata": {
        "id": "lfYWK19KT3eY",
        "colab_type": "code",
        "colab": {}
      },
      "source": [
        "#AccountId\tAmount\tBatchId\tChannelId\tCountryCode\tCurrencyCode\tCustomerId\tFraudResult\tPricingStrategy\tProductCategory\tProductId\tProviderId\tSubscriptionId\tTransactionId\tTransactionStartTime\tValue"
      ],
      "execution_count": 0,
      "outputs": []
    },
    {
      "cell_type": "code",
      "metadata": {
        "id": "d1roFl4JqSkR",
        "colab_type": "code",
        "colab": {
          "base_uri": "https://localhost:8080/",
          "height": 1000
        },
        "outputId": "b31fd68f-97db-4954-fe66-200e7c41f739"
      },
      "source": [
        "df['ProviderId'].describe"
      ],
      "execution_count": 163,
      "outputs": [
        {
          "output_type": "execute_result",
          "data": {
            "text/plain": [
              "<bound method NDFrame.describe of 0        ProviderId_6\n",
              "1        ProviderId_4\n",
              "2        ProviderId_6\n",
              "3        ProviderId_1\n",
              "4        ProviderId_4\n",
              "5        ProviderId_6\n",
              "6        ProviderId_5\n",
              "7        ProviderId_4\n",
              "8        ProviderId_6\n",
              "9        ProviderId_1\n",
              "10       ProviderId_6\n",
              "11       ProviderId_4\n",
              "12       ProviderId_1\n",
              "13       ProviderId_3\n",
              "14       ProviderId_3\n",
              "15       ProviderId_3\n",
              "16       ProviderId_5\n",
              "17       ProviderId_6\n",
              "18       ProviderId_4\n",
              "19       ProviderId_5\n",
              "20       ProviderId_4\n",
              "21       ProviderId_5\n",
              "22       ProviderId_4\n",
              "23       ProviderId_6\n",
              "24       ProviderId_6\n",
              "25       ProviderId_4\n",
              "26       ProviderId_6\n",
              "27       ProviderId_6\n",
              "28       ProviderId_4\n",
              "29       ProviderId_5\n",
              "             ...     \n",
              "44989    ProviderId_4\n",
              "44990    ProviderId_3\n",
              "44991    ProviderId_4\n",
              "44992    ProviderId_4\n",
              "44993    ProviderId_3\n",
              "44994    ProviderId_4\n",
              "44995    ProviderId_3\n",
              "44996    ProviderId_4\n",
              "44997    ProviderId_3\n",
              "44998    ProviderId_3\n",
              "44999    ProviderId_3\n",
              "45000    ProviderId_4\n",
              "45001    ProviderId_3\n",
              "45002    ProviderId_4\n",
              "45003    ProviderId_5\n",
              "45004    ProviderId_6\n",
              "45005    ProviderId_4\n",
              "45006    ProviderId_3\n",
              "45007    ProviderId_4\n",
              "45008    ProviderId_6\n",
              "45009    ProviderId_3\n",
              "45010    ProviderId_4\n",
              "45011    ProviderId_3\n",
              "45012    ProviderId_4\n",
              "45013    ProviderId_3\n",
              "45014    ProviderId_4\n",
              "45015    ProviderId_3\n",
              "45016    ProviderId_3\n",
              "45017    ProviderId_4\n",
              "45018    ProviderId_5\n",
              "Name: ProviderId, Length: 140681, dtype: object>"
            ]
          },
          "metadata": {
            "tags": []
          },
          "execution_count": 163
        }
      ]
    },
    {
      "cell_type": "code",
      "metadata": {
        "id": "JPdMdPmuUy3K",
        "colab_type": "code",
        "colab": {
          "base_uri": "https://localhost:8080/",
          "height": 1000
        },
        "outputId": "255150f7-151f-4f26-a2b9-46d002084208"
      },
      "source": [
        "df['ProductCategory'].describe"
      ],
      "execution_count": 164,
      "outputs": [
        {
          "output_type": "execute_result",
          "data": {
            "text/plain": [
              "<bound method NDFrame.describe of 0                   airtime\n",
              "1        financial_services\n",
              "2                   airtime\n",
              "3              utility_bill\n",
              "4        financial_services\n",
              "5                   airtime\n",
              "6                   airtime\n",
              "7        financial_services\n",
              "8                   airtime\n",
              "9        financial_services\n",
              "10                  airtime\n",
              "11       financial_services\n",
              "12       financial_services\n",
              "13       financial_services\n",
              "14       financial_services\n",
              "15       financial_services\n",
              "16       financial_services\n",
              "17             data_bundles\n",
              "18       financial_services\n",
              "19                  airtime\n",
              "20       financial_services\n",
              "21                  airtime\n",
              "22       financial_services\n",
              "23                  airtime\n",
              "24                  airtime\n",
              "25       financial_services\n",
              "26                  airtime\n",
              "27                       tv\n",
              "28       financial_services\n",
              "29       financial_services\n",
              "                ...        \n",
              "44989    financial_services\n",
              "44990               airtime\n",
              "44991    financial_services\n",
              "44992               airtime\n",
              "44993               airtime\n",
              "44994    financial_services\n",
              "44995               airtime\n",
              "44996    financial_services\n",
              "44997               airtime\n",
              "44998               airtime\n",
              "44999               airtime\n",
              "45000    financial_services\n",
              "45001               airtime\n",
              "45002    financial_services\n",
              "45003    financial_services\n",
              "45004               airtime\n",
              "45005    financial_services\n",
              "45006               airtime\n",
              "45007    financial_services\n",
              "45008               airtime\n",
              "45009               airtime\n",
              "45010    financial_services\n",
              "45011               airtime\n",
              "45012    financial_services\n",
              "45013               airtime\n",
              "45014    financial_services\n",
              "45015               airtime\n",
              "45016               airtime\n",
              "45017    financial_services\n",
              "45018               airtime\n",
              "Name: ProductCategory, Length: 140681, dtype: object>"
            ]
          },
          "metadata": {
            "tags": []
          },
          "execution_count": 164
        }
      ]
    },
    {
      "cell_type": "code",
      "metadata": {
        "id": "SDsB3I39Wbvd",
        "colab_type": "code",
        "colab": {}
      },
      "source": [
        "#Encode ProductCategory column\n",
        "categorical = ['ProductCategory', 'ProviderId']\n",
        "\n",
        "for var in categorical:\n",
        "    df=pd.concat([df, \n",
        "                   pd.get_dummies(df[var], prefix=var)], axis=1)\n",
        "    del df[var]"
      ],
      "execution_count": 0,
      "outputs": []
    },
    {
      "cell_type": "code",
      "metadata": {
        "id": "Ikfi14fJQM0X",
        "colab_type": "code",
        "colab": {
          "base_uri": "https://localhost:8080/",
          "height": 170
        },
        "outputId": "02098d70-9339-4942-8437-fd28a6344c87"
      },
      "source": [
        "df['PricingStrategy'].describe()"
      ],
      "execution_count": 166,
      "outputs": [
        {
          "output_type": "execute_result",
          "data": {
            "text/plain": [
              "count    140681.000000\n",
              "mean          2.257469\n",
              "std           0.735089\n",
              "min           0.000000\n",
              "25%           2.000000\n",
              "50%           2.000000\n",
              "75%           2.000000\n",
              "max           4.000000\n",
              "Name: PricingStrategy, dtype: float64"
            ]
          },
          "metadata": {
            "tags": []
          },
          "execution_count": 166
        }
      ]
    },
    {
      "cell_type": "code",
      "metadata": {
        "id": "M9gQNqA9VHjC",
        "colab_type": "code",
        "colab": {}
      },
      "source": [
        "#Encode PricingStrategy column\n",
        "categorical = ['PricingStrategy']\n",
        "\n",
        "for var in categorical:\n",
        "    df=pd.concat([df, \n",
        "                   pd.get_dummies(df[var], prefix=var)], axis=1)\n",
        "    del df[var]"
      ],
      "execution_count": 0,
      "outputs": []
    },
    {
      "cell_type": "code",
      "metadata": {
        "id": "eRTys3SiUOnQ",
        "colab_type": "code",
        "colab": {
          "base_uri": "https://localhost:8080/",
          "height": 102
        },
        "outputId": "eef74a2b-3274-4beb-bc8d-fe0be4e919a5"
      },
      "source": [
        "df['BatchId'].describe()"
      ],
      "execution_count": 168,
      "outputs": [
        {
          "output_type": "execute_result",
          "data": {
            "text/plain": [
              "count            140681\n",
              "unique           139493\n",
              "top       BatchId_67019\n",
              "freq                 28\n",
              "Name: BatchId, dtype: object"
            ]
          },
          "metadata": {
            "tags": []
          },
          "execution_count": 168
        }
      ]
    },
    {
      "cell_type": "code",
      "metadata": {
        "id": "x_Gdq9xlwefG",
        "colab_type": "code",
        "colab": {}
      },
      "source": [
        "#df.drop(['BatchId', 'AccountId','SubscriptionId','CustomerId','ProviderId', 'ProductId', 'ChannelId'], axis = 1, inplace = True)"
      ],
      "execution_count": 0,
      "outputs": []
    },
    {
      "cell_type": "code",
      "metadata": {
        "id": "Rw_hSUXmP4YF",
        "colab_type": "code",
        "colab": {}
      },
      "source": [
        "# Drop Columns that won't be useful and sum of these columns are redundant\n",
        "\n",
        "df.drop(['SubscriptionId','ProductId','ChannelId','CustomerId', 'CurrencyCode', 'CountryCode', 'AccountId', 'BatchId'], axis = 1, inplace = True)"
      ],
      "execution_count": 0,
      "outputs": []
    },
    {
      "cell_type": "code",
      "metadata": {
        "id": "NNGDgThSqpzl",
        "colab_type": "code",
        "colab": {
          "base_uri": "https://localhost:8080/",
          "height": 68
        },
        "outputId": "11b490bb-7dce-4f9f-a6a6-b74d6868e217"
      },
      "source": [
        "# total fraud and total not fraud \n",
        "df['FraudResult'].value_counts()"
      ],
      "execution_count": 171,
      "outputs": [
        {
          "output_type": "execute_result",
          "data": {
            "text/plain": [
              "0.0    95469\n",
              "1.0      193\n",
              "Name: FraudResult, dtype: int64"
            ]
          },
          "metadata": {
            "tags": []
          },
          "execution_count": 171
        }
      ]
    },
    {
      "cell_type": "code",
      "metadata": {
        "id": "jbNNE-rew5ia",
        "colab_type": "code",
        "colab": {
          "base_uri": "https://localhost:8080/",
          "height": 224
        },
        "outputId": "a632f0a1-901e-42da-9f9c-85c1a5ce0cf4"
      },
      "source": [
        "df.head()"
      ],
      "execution_count": 172,
      "outputs": [
        {
          "output_type": "execute_result",
          "data": {
            "text/html": [
              "<div>\n",
              "<style scoped>\n",
              "    .dataframe tbody tr th:only-of-type {\n",
              "        vertical-align: middle;\n",
              "    }\n",
              "\n",
              "    .dataframe tbody tr th {\n",
              "        vertical-align: top;\n",
              "    }\n",
              "\n",
              "    .dataframe thead th {\n",
              "        text-align: right;\n",
              "    }\n",
              "</style>\n",
              "<table border=\"1\" class=\"dataframe\">\n",
              "  <thead>\n",
              "    <tr style=\"text-align: right;\">\n",
              "      <th></th>\n",
              "      <th>Amount</th>\n",
              "      <th>FraudResult</th>\n",
              "      <th>TransactionId</th>\n",
              "      <th>Value</th>\n",
              "      <th>Year</th>\n",
              "      <th>ProductCategory_airtime</th>\n",
              "      <th>ProductCategory_data_bundles</th>\n",
              "      <th>ProductCategory_financial_services</th>\n",
              "      <th>ProductCategory_movies</th>\n",
              "      <th>ProductCategory_other</th>\n",
              "      <th>ProductCategory_retail</th>\n",
              "      <th>ProductCategory_ticket</th>\n",
              "      <th>ProductCategory_transport</th>\n",
              "      <th>ProductCategory_tv</th>\n",
              "      <th>ProductCategory_utility_bill</th>\n",
              "      <th>ProviderId_ProviderId_1</th>\n",
              "      <th>ProviderId_ProviderId_2</th>\n",
              "      <th>ProviderId_ProviderId_3</th>\n",
              "      <th>ProviderId_ProviderId_4</th>\n",
              "      <th>ProviderId_ProviderId_5</th>\n",
              "      <th>ProviderId_ProviderId_6</th>\n",
              "      <th>PricingStrategy_0</th>\n",
              "      <th>PricingStrategy_1</th>\n",
              "      <th>PricingStrategy_2</th>\n",
              "      <th>PricingStrategy_4</th>\n",
              "    </tr>\n",
              "  </thead>\n",
              "  <tbody>\n",
              "    <tr>\n",
              "      <th>0</th>\n",
              "      <td>1000.0</td>\n",
              "      <td>0.0</td>\n",
              "      <td>TransactionId_76871</td>\n",
              "      <td>1000</td>\n",
              "      <td>2018</td>\n",
              "      <td>1</td>\n",
              "      <td>0</td>\n",
              "      <td>0</td>\n",
              "      <td>0</td>\n",
              "      <td>0</td>\n",
              "      <td>0</td>\n",
              "      <td>0</td>\n",
              "      <td>0</td>\n",
              "      <td>0</td>\n",
              "      <td>0</td>\n",
              "      <td>0</td>\n",
              "      <td>0</td>\n",
              "      <td>0</td>\n",
              "      <td>0</td>\n",
              "      <td>0</td>\n",
              "      <td>1</td>\n",
              "      <td>0</td>\n",
              "      <td>0</td>\n",
              "      <td>1</td>\n",
              "      <td>0</td>\n",
              "    </tr>\n",
              "    <tr>\n",
              "      <th>1</th>\n",
              "      <td>-20.0</td>\n",
              "      <td>0.0</td>\n",
              "      <td>TransactionId_73770</td>\n",
              "      <td>20</td>\n",
              "      <td>2018</td>\n",
              "      <td>0</td>\n",
              "      <td>0</td>\n",
              "      <td>1</td>\n",
              "      <td>0</td>\n",
              "      <td>0</td>\n",
              "      <td>0</td>\n",
              "      <td>0</td>\n",
              "      <td>0</td>\n",
              "      <td>0</td>\n",
              "      <td>0</td>\n",
              "      <td>0</td>\n",
              "      <td>0</td>\n",
              "      <td>0</td>\n",
              "      <td>1</td>\n",
              "      <td>0</td>\n",
              "      <td>0</td>\n",
              "      <td>0</td>\n",
              "      <td>0</td>\n",
              "      <td>1</td>\n",
              "      <td>0</td>\n",
              "    </tr>\n",
              "    <tr>\n",
              "      <th>2</th>\n",
              "      <td>500.0</td>\n",
              "      <td>0.0</td>\n",
              "      <td>TransactionId_26203</td>\n",
              "      <td>500</td>\n",
              "      <td>2018</td>\n",
              "      <td>1</td>\n",
              "      <td>0</td>\n",
              "      <td>0</td>\n",
              "      <td>0</td>\n",
              "      <td>0</td>\n",
              "      <td>0</td>\n",
              "      <td>0</td>\n",
              "      <td>0</td>\n",
              "      <td>0</td>\n",
              "      <td>0</td>\n",
              "      <td>0</td>\n",
              "      <td>0</td>\n",
              "      <td>0</td>\n",
              "      <td>0</td>\n",
              "      <td>0</td>\n",
              "      <td>1</td>\n",
              "      <td>0</td>\n",
              "      <td>0</td>\n",
              "      <td>1</td>\n",
              "      <td>0</td>\n",
              "    </tr>\n",
              "    <tr>\n",
              "      <th>3</th>\n",
              "      <td>20000.0</td>\n",
              "      <td>0.0</td>\n",
              "      <td>TransactionId_380</td>\n",
              "      <td>21800</td>\n",
              "      <td>2018</td>\n",
              "      <td>0</td>\n",
              "      <td>0</td>\n",
              "      <td>0</td>\n",
              "      <td>0</td>\n",
              "      <td>0</td>\n",
              "      <td>0</td>\n",
              "      <td>0</td>\n",
              "      <td>0</td>\n",
              "      <td>0</td>\n",
              "      <td>1</td>\n",
              "      <td>1</td>\n",
              "      <td>0</td>\n",
              "      <td>0</td>\n",
              "      <td>0</td>\n",
              "      <td>0</td>\n",
              "      <td>0</td>\n",
              "      <td>0</td>\n",
              "      <td>0</td>\n",
              "      <td>1</td>\n",
              "      <td>0</td>\n",
              "    </tr>\n",
              "    <tr>\n",
              "      <th>4</th>\n",
              "      <td>-644.0</td>\n",
              "      <td>0.0</td>\n",
              "      <td>TransactionId_28195</td>\n",
              "      <td>644</td>\n",
              "      <td>2018</td>\n",
              "      <td>0</td>\n",
              "      <td>0</td>\n",
              "      <td>1</td>\n",
              "      <td>0</td>\n",
              "      <td>0</td>\n",
              "      <td>0</td>\n",
              "      <td>0</td>\n",
              "      <td>0</td>\n",
              "      <td>0</td>\n",
              "      <td>0</td>\n",
              "      <td>0</td>\n",
              "      <td>0</td>\n",
              "      <td>0</td>\n",
              "      <td>1</td>\n",
              "      <td>0</td>\n",
              "      <td>0</td>\n",
              "      <td>0</td>\n",
              "      <td>0</td>\n",
              "      <td>1</td>\n",
              "      <td>0</td>\n",
              "    </tr>\n",
              "  </tbody>\n",
              "</table>\n",
              "</div>"
            ],
            "text/plain": [
              "    Amount  FraudResult  ... PricingStrategy_2  PricingStrategy_4\n",
              "0   1000.0          0.0  ...                 1                  0\n",
              "1    -20.0          0.0  ...                 1                  0\n",
              "2    500.0          0.0  ...                 1                  0\n",
              "3  20000.0          0.0  ...                 1                  0\n",
              "4   -644.0          0.0  ...                 1                  0\n",
              "\n",
              "[5 rows x 25 columns]"
            ]
          },
          "metadata": {
            "tags": []
          },
          "execution_count": 172
        }
      ]
    },
    {
      "cell_type": "code",
      "metadata": {
        "id": "HaWCTJZYZa_w",
        "colab_type": "code",
        "colab": {}
      },
      "source": [
        "df.drop(['TransactionId'], axis = 1, inplace = True)"
      ],
      "execution_count": 0,
      "outputs": []
    },
    {
      "cell_type": "code",
      "metadata": {
        "id": "L5rhp6URZg2a",
        "colab_type": "code",
        "colab": {
          "base_uri": "https://localhost:8080/",
          "height": 34
        },
        "outputId": "6b102467-270c-4f8d-9834-0bafe727f398"
      },
      "source": [
        "df.shape"
      ],
      "execution_count": 174,
      "outputs": [
        {
          "output_type": "execute_result",
          "data": {
            "text/plain": [
              "(140681, 25)"
            ]
          },
          "metadata": {
            "tags": []
          },
          "execution_count": 174
        }
      ]
    },
    {
      "cell_type": "code",
      "metadata": {
        "id": "7hqmc4WA2mz4",
        "colab_type": "code",
        "colab": {}
      },
      "source": [
        "# # convert to category dtype\n",
        "# df['Year'] = df['Year'].astype('category')\n",
        "# # convert to category codes\n",
        "# df['Year'] = df['Year'].cat.codes"
      ],
      "execution_count": 0,
      "outputs": []
    },
    {
      "cell_type": "code",
      "metadata": {
        "id": "ZPcha_Mm5ojR",
        "colab_type": "code",
        "colab": {}
      },
      "source": [
        "# df['Year'].tail()"
      ],
      "execution_count": 0,
      "outputs": []
    },
    {
      "cell_type": "code",
      "metadata": {
        "id": "G3BUwwx73HTV",
        "colab_type": "code",
        "colab": {}
      },
      "source": [
        "# # convert to category dtype\n",
        "# df['TransactionId'] = df['TransactionId'].astype('category')\n",
        "# # convert to category codes\n",
        "# df['TransactionId'] = df['TransactionId'].cat.codes"
      ],
      "execution_count": 0,
      "outputs": []
    },
    {
      "cell_type": "code",
      "metadata": {
        "id": "L7DLZbcL4PEl",
        "colab_type": "code",
        "colab": {
          "base_uri": "https://localhost:8080/",
          "height": 527
        },
        "outputId": "91b366fd-e265-45b3-c5de-71a75c6a0bf2"
      },
      "source": [
        "df.info()"
      ],
      "execution_count": 178,
      "outputs": [
        {
          "output_type": "stream",
          "text": [
            "<class 'pandas.core.frame.DataFrame'>\n",
            "Int64Index: 140681 entries, 0 to 45018\n",
            "Data columns (total 25 columns):\n",
            "Amount                                140681 non-null float64\n",
            "FraudResult                           95662 non-null float64\n",
            "TransactionId                         140681 non-null object\n",
            "Value                                 140681 non-null int64\n",
            "Year                                  140681 non-null int64\n",
            "ProductCategory_airtime               140681 non-null uint8\n",
            "ProductCategory_data_bundles          140681 non-null uint8\n",
            "ProductCategory_financial_services    140681 non-null uint8\n",
            "ProductCategory_movies                140681 non-null uint8\n",
            "ProductCategory_other                 140681 non-null uint8\n",
            "ProductCategory_retail                140681 non-null uint8\n",
            "ProductCategory_ticket                140681 non-null uint8\n",
            "ProductCategory_transport             140681 non-null uint8\n",
            "ProductCategory_tv                    140681 non-null uint8\n",
            "ProductCategory_utility_bill          140681 non-null uint8\n",
            "ProviderId_ProviderId_1               140681 non-null uint8\n",
            "ProviderId_ProviderId_2               140681 non-null uint8\n",
            "ProviderId_ProviderId_3               140681 non-null uint8\n",
            "ProviderId_ProviderId_4               140681 non-null uint8\n",
            "ProviderId_ProviderId_5               140681 non-null uint8\n",
            "ProviderId_ProviderId_6               140681 non-null uint8\n",
            "PricingStrategy_0                     140681 non-null uint8\n",
            "PricingStrategy_1                     140681 non-null uint8\n",
            "PricingStrategy_2                     140681 non-null uint8\n",
            "PricingStrategy_4                     140681 non-null uint8\n",
            "dtypes: float64(2), int64(2), object(1), uint8(20)\n",
            "memory usage: 9.1+ MB\n"
          ],
          "name": "stdout"
        }
      ]
    },
    {
      "cell_type": "code",
      "metadata": {
        "id": "9F8ISj3P7WrM",
        "colab_type": "code",
        "colab": {}
      },
      "source": [
        "# categorical = ['ProductCategory']\n",
        "\n",
        "# for var in categorical:\n",
        "#     df = pd.concat([df, \n",
        "#                     pd.get_dummies(df[var], prefix=var)], axis=1)\n",
        "#     del df[var]"
      ],
      "execution_count": 0,
      "outputs": []
    },
    {
      "cell_type": "code",
      "metadata": {
        "id": "P28-n8sm9UTe",
        "colab_type": "code",
        "colab": {}
      },
      "source": [
        "# df = pd.concat([df, pd.get_dummies(df['ProductCategory'], prefix='ProductCategory')], axis=1)\n",
        "# del df['ProductCategory']"
      ],
      "execution_count": 0,
      "outputs": []
    },
    {
      "cell_type": "code",
      "metadata": {
        "id": "_JFLsV579kqf",
        "colab_type": "code",
        "colab": {}
      },
      "source": [
        "#df.head()"
      ],
      "execution_count": 0,
      "outputs": []
    },
    {
      "cell_type": "markdown",
      "metadata": {
        "id": "P3PNt2YcCHua",
        "colab_type": "text"
      },
      "source": [
        "#  Logistic model\n"
      ]
    },
    {
      "cell_type": "markdown",
      "metadata": {
        "id": "nUbaKFuxCN2y",
        "colab_type": "text"
      },
      "source": [
        "\n",
        "Now that the data is preprocessed , all that is left is to feed our data that has been cleaned, encoded and scaled to a Logistic model"
      ]
    },
    {
      "cell_type": "code",
      "metadata": {
        "id": "lk9WAMfIB1Ui",
        "colab_type": "code",
        "colab": {}
      },
      "source": [
        "# Import some libraries we will need\n",
        "import matplotlib.pyplot as plt\n",
        "import seaborn as sns\n",
        "%matplotlib inline"
      ],
      "execution_count": 0,
      "outputs": []
    },
    {
      "cell_type": "markdown",
      "metadata": {
        "id": "Zl7RGG9sDLbh",
        "colab_type": "text"
      },
      "source": [
        "# Train/test split\n"
      ]
    },
    {
      "cell_type": "code",
      "metadata": {
        "id": "MJbf3JG__cCI",
        "colab_type": "code",
        "colab": {}
      },
      "source": [
        "train_df = df[pd.notnull(df['FraudResult'])]\n",
        "X_test = df[pd.isnull(df['FraudResult'])].drop(['FraudResult'], axis=1)"
      ],
      "execution_count": 0,
      "outputs": []
    },
    {
      "cell_type": "code",
      "metadata": {
        "id": "_6qqhbSVAWA_",
        "colab_type": "code",
        "colab": {
          "base_uri": "https://localhost:8080/",
          "height": 34
        },
        "outputId": "4a038ded-8898-4cfc-b665-04dbf52f686f"
      },
      "source": [
        "train_df.shape"
      ],
      "execution_count": 267,
      "outputs": [
        {
          "output_type": "execute_result",
          "data": {
            "text/plain": [
              "(95662, 24)"
            ]
          },
          "metadata": {
            "tags": []
          },
          "execution_count": 267
        }
      ]
    },
    {
      "cell_type": "code",
      "metadata": {
        "id": "B3uFOYVJA9Dx",
        "colab_type": "code",
        "colab": {
          "base_uri": "https://localhost:8080/",
          "height": 34
        },
        "outputId": "3113682d-7006-4eb1-bcda-196658f3a3e1"
      },
      "source": [
        "test_df.shape"
      ],
      "execution_count": 268,
      "outputs": [
        {
          "output_type": "execute_result",
          "data": {
            "text/plain": [
              "(45019, 23)"
            ]
          },
          "metadata": {
            "tags": []
          },
          "execution_count": 268
        }
      ]
    },
    {
      "cell_type": "markdown",
      "metadata": {
        "id": "lF65tR8wFJ9E",
        "colab_type": "text"
      },
      "source": [
        "# Validation set"
      ]
    },
    {
      "cell_type": "code",
      "metadata": {
        "id": "mWo6p-JzFEJN",
        "colab_type": "code",
        "colab": {}
      },
      "source": [
        "# X =train.drop(['FraudResult'], axis = 1)\n",
        "# y = train['FraudResult']\n"
      ],
      "execution_count": 0,
      "outputs": []
    },
    {
      "cell_type": "code",
      "metadata": {
        "id": "aOoTUS_ZFr5q",
        "colab_type": "code",
        "colab": {}
      },
      "source": [
        "from sklearn.model_selection import train_test_split\n",
        "\n",
        "# X_train, X_val, y_train, y_val = train_test_split(\n",
        "#     train.drop(['FraudResult'], axis=1),\n",
        "#     train['FraudResult'], \n",
        "#     test_size=0.2, random_state=42)"
      ],
      "execution_count": 0,
      "outputs": []
    },
    {
      "cell_type": "code",
      "metadata": {
        "id": "IqkPM38WF8OD",
        "colab_type": "code",
        "colab": {}
      },
      "source": [
        "# for i in [X_train, X_val, X_test]:\n",
        "#     print(i.shape)"
      ],
      "execution_count": 0,
      "outputs": []
    },
    {
      "cell_type": "markdown",
      "metadata": {
        "id": "YxTlxvGRHpK_",
        "colab_type": "text"
      },
      "source": [
        "\n",
        "Create Logistic model\n"
      ]
    },
    {
      "cell_type": "code",
      "metadata": {
        "id": "EQPbmQsMGd_j",
        "colab_type": "code",
        "colab": {}
      },
      "source": [
        "X =train_df.drop(['FraudResult'], axis = 1)\n",
        "y = train_df['FraudResult']\n"
      ],
      "execution_count": 0,
      "outputs": []
    },
    {
      "cell_type": "code",
      "metadata": {
        "id": "tu0pghGhHHiI",
        "colab_type": "code",
        "colab": {}
      },
      "source": [
        "X_train, X_test, y_train, y_test = train_test_split(X, y, test_size=0.2, random_state=50)"
      ],
      "execution_count": 0,
      "outputs": []
    },
    {
      "cell_type": "markdown",
      "metadata": {
        "id": "V2BBsxRjJRPG",
        "colab_type": "text"
      },
      "source": [
        "## Training"
      ]
    },
    {
      "cell_type": "markdown",
      "metadata": {
        "id": "15O9wFMuJaf-",
        "colab_type": "text"
      },
      "source": [
        "import LogisticRegression from sklearn.linear_model"
      ]
    },
    {
      "cell_type": "code",
      "metadata": {
        "id": "BE6hDYLwIsD_",
        "colab_type": "code",
        "colab": {}
      },
      "source": [
        "from sklearn.linear_model import LogisticRegression"
      ],
      "execution_count": 0,
      "outputs": []
    },
    {
      "cell_type": "markdown",
      "metadata": {
        "id": "EEWHa0HOJxQV",
        "colab_type": "text"
      },
      "source": [
        "creating an object for logistic regression."
      ]
    },
    {
      "cell_type": "code",
      "metadata": {
        "id": "ZoK1nJn7IwXG",
        "colab_type": "code",
        "colab": {}
      },
      "source": [
        "lm = LogisticRegression(penalty = 'l2')"
      ],
      "execution_count": 0,
      "outputs": []
    },
    {
      "cell_type": "code",
      "metadata": {
        "id": "YK28heoaJ_pP",
        "colab_type": "code",
        "colab": {
          "base_uri": "https://localhost:8080/",
          "height": 156
        },
        "outputId": "71b05072-d35d-4ad6-f612-a8accaba6e54"
      },
      "source": [
        "lm.fit(X_train,y_train)"
      ],
      "execution_count": 197,
      "outputs": [
        {
          "output_type": "stream",
          "text": [
            "/usr/local/lib/python3.6/dist-packages/sklearn/linear_model/logistic.py:432: FutureWarning: Default solver will be changed to 'lbfgs' in 0.22. Specify a solver to silence this warning.\n",
            "  FutureWarning)\n"
          ],
          "name": "stderr"
        },
        {
          "output_type": "execute_result",
          "data": {
            "text/plain": [
              "LogisticRegression(C=1.0, class_weight=None, dual=False, fit_intercept=True,\n",
              "                   intercept_scaling=1, l1_ratio=None, max_iter=100,\n",
              "                   multi_class='warn', n_jobs=None, penalty='l2',\n",
              "                   random_state=None, solver='warn', tol=0.0001, verbose=0,\n",
              "                   warm_start=False)"
            ]
          },
          "metadata": {
            "tags": []
          },
          "execution_count": 197
        }
      ]
    },
    {
      "cell_type": "code",
      "metadata": {
        "id": "f21jn9vNKDZ8",
        "colab_type": "code",
        "colab": {
          "base_uri": "https://localhost:8080/",
          "height": 34
        },
        "outputId": "b043f578-cd23-4eaa-c4c0-382d2c807734"
      },
      "source": [
        "lm.intercept_[0]"
      ],
      "execution_count": 198,
      "outputs": [
        {
          "output_type": "execute_result",
          "data": {
            "text/plain": [
              "-0.0010685073408167264"
            ]
          },
          "metadata": {
            "tags": []
          },
          "execution_count": 198
        }
      ]
    },
    {
      "cell_type": "code",
      "metadata": {
        "id": "A5Qsnf8xKJGc",
        "colab_type": "code",
        "colab": {
          "base_uri": "https://localhost:8080/",
          "height": 762
        },
        "outputId": "c9ba6362-5d52-45da-a8c6-7e71139506b4"
      },
      "source": [
        "coeff_df = pd.DataFrame(lm.coef_.T,X.columns,columns=['Coefficient'])\n",
        "coeff_df"
      ],
      "execution_count": 199,
      "outputs": [
        {
          "output_type": "execute_result",
          "data": {
            "text/html": [
              "<div>\n",
              "<style scoped>\n",
              "    .dataframe tbody tr th:only-of-type {\n",
              "        vertical-align: middle;\n",
              "    }\n",
              "\n",
              "    .dataframe tbody tr th {\n",
              "        vertical-align: top;\n",
              "    }\n",
              "\n",
              "    .dataframe thead th {\n",
              "        text-align: right;\n",
              "    }\n",
              "</style>\n",
              "<table border=\"1\" class=\"dataframe\">\n",
              "  <thead>\n",
              "    <tr style=\"text-align: right;\">\n",
              "      <th></th>\n",
              "      <th>Coefficient</th>\n",
              "    </tr>\n",
              "  </thead>\n",
              "  <tbody>\n",
              "    <tr>\n",
              "      <th>Amount</th>\n",
              "      <td>-0.000016</td>\n",
              "    </tr>\n",
              "    <tr>\n",
              "      <th>Value</th>\n",
              "      <td>0.000020</td>\n",
              "    </tr>\n",
              "    <tr>\n",
              "      <th>Year</th>\n",
              "      <td>-0.003507</td>\n",
              "    </tr>\n",
              "    <tr>\n",
              "      <th>ProductCategory_airtime</th>\n",
              "      <td>-1.193094</td>\n",
              "    </tr>\n",
              "    <tr>\n",
              "      <th>ProductCategory_data_bundles</th>\n",
              "      <td>-0.297263</td>\n",
              "    </tr>\n",
              "    <tr>\n",
              "      <th>ProductCategory_financial_services</th>\n",
              "      <td>0.573903</td>\n",
              "    </tr>\n",
              "    <tr>\n",
              "      <th>ProductCategory_movies</th>\n",
              "      <td>-0.055424</td>\n",
              "    </tr>\n",
              "    <tr>\n",
              "      <th>ProductCategory_other</th>\n",
              "      <td>-0.003276</td>\n",
              "    </tr>\n",
              "    <tr>\n",
              "      <th>ProductCategory_retail</th>\n",
              "      <td>0.000000</td>\n",
              "    </tr>\n",
              "    <tr>\n",
              "      <th>ProductCategory_ticket</th>\n",
              "      <td>-0.138321</td>\n",
              "    </tr>\n",
              "    <tr>\n",
              "      <th>ProductCategory_transport</th>\n",
              "      <td>0.303407</td>\n",
              "    </tr>\n",
              "    <tr>\n",
              "      <th>ProductCategory_tv</th>\n",
              "      <td>-0.363898</td>\n",
              "    </tr>\n",
              "    <tr>\n",
              "      <th>ProductCategory_utility_bill</th>\n",
              "      <td>1.172898</td>\n",
              "    </tr>\n",
              "    <tr>\n",
              "      <th>ProviderId_ProviderId_1</th>\n",
              "      <td>0.663081</td>\n",
              "    </tr>\n",
              "    <tr>\n",
              "      <th>ProviderId_ProviderId_2</th>\n",
              "      <td>-0.002503</td>\n",
              "    </tr>\n",
              "    <tr>\n",
              "      <th>ProviderId_ProviderId_3</th>\n",
              "      <td>2.239247</td>\n",
              "    </tr>\n",
              "    <tr>\n",
              "      <th>ProviderId_ProviderId_4</th>\n",
              "      <td>-2.309613</td>\n",
              "    </tr>\n",
              "    <tr>\n",
              "      <th>ProviderId_ProviderId_5</th>\n",
              "      <td>0.605176</td>\n",
              "    </tr>\n",
              "    <tr>\n",
              "      <th>ProviderId_ProviderId_6</th>\n",
              "      <td>-1.196457</td>\n",
              "    </tr>\n",
              "    <tr>\n",
              "      <th>PricingStrategy_0</th>\n",
              "      <td>0.451252</td>\n",
              "    </tr>\n",
              "    <tr>\n",
              "      <th>PricingStrategy_1</th>\n",
              "      <td>-0.752072</td>\n",
              "    </tr>\n",
              "    <tr>\n",
              "      <th>PricingStrategy_2</th>\n",
              "      <td>0.053658</td>\n",
              "    </tr>\n",
              "    <tr>\n",
              "      <th>PricingStrategy_4</th>\n",
              "      <td>0.246094</td>\n",
              "    </tr>\n",
              "  </tbody>\n",
              "</table>\n",
              "</div>"
            ],
            "text/plain": [
              "                                    Coefficient\n",
              "Amount                                -0.000016\n",
              "Value                                  0.000020\n",
              "Year                                  -0.003507\n",
              "ProductCategory_airtime               -1.193094\n",
              "ProductCategory_data_bundles          -0.297263\n",
              "ProductCategory_financial_services     0.573903\n",
              "ProductCategory_movies                -0.055424\n",
              "ProductCategory_other                 -0.003276\n",
              "ProductCategory_retail                 0.000000\n",
              "ProductCategory_ticket                -0.138321\n",
              "ProductCategory_transport              0.303407\n",
              "ProductCategory_tv                    -0.363898\n",
              "ProductCategory_utility_bill           1.172898\n",
              "ProviderId_ProviderId_1                0.663081\n",
              "ProviderId_ProviderId_2               -0.002503\n",
              "ProviderId_ProviderId_3                2.239247\n",
              "ProviderId_ProviderId_4               -2.309613\n",
              "ProviderId_ProviderId_5                0.605176\n",
              "ProviderId_ProviderId_6               -1.196457\n",
              "PricingStrategy_0                      0.451252\n",
              "PricingStrategy_1                     -0.752072\n",
              "PricingStrategy_2                      0.053658\n",
              "PricingStrategy_4                      0.246094"
            ]
          },
          "metadata": {
            "tags": []
          },
          "execution_count": 199
        }
      ]
    },
    {
      "cell_type": "markdown",
      "metadata": {
        "id": "JPL_zFhPKvgI",
        "colab_type": "text"
      },
      "source": [
        "## Predicting"
      ]
    },
    {
      "cell_type": "code",
      "metadata": {
        "id": "Nrr_xgKJKVJZ",
        "colab_type": "code",
        "colab": {}
      },
      "source": [
        "pred_lm = lm.predict(X_test)"
      ],
      "execution_count": 0,
      "outputs": []
    },
    {
      "cell_type": "code",
      "metadata": {
        "id": "H2dJWipNK6qJ",
        "colab_type": "code",
        "colab": {}
      },
      "source": [
        "from sklearn.metrics import confusion_matrix"
      ],
      "execution_count": 0,
      "outputs": []
    },
    {
      "cell_type": "code",
      "metadata": {
        "id": "skf7OBfqLAZv",
        "colab_type": "code",
        "colab": {}
      },
      "source": [
        "#confusion_matrix(y_test, pred_lm)"
      ],
      "execution_count": 0,
      "outputs": []
    },
    {
      "cell_type": "code",
      "metadata": {
        "id": "j08tvBvNLFQn",
        "colab_type": "code",
        "colab": {}
      },
      "source": [
        "# labels = ['No Fraud', 'Fraud']\n",
        "\n",
        "# pd.DataFrame(data=confusion_matrix(y_test, pred_lm), index=labels, columns=labels)"
      ],
      "execution_count": 0,
      "outputs": []
    },
    {
      "cell_type": "code",
      "metadata": {
        "id": "5cqtlTAmLQdx",
        "colab_type": "code",
        "colab": {}
      },
      "source": [
        "from sklearn.metrics import classification_report"
      ],
      "execution_count": 0,
      "outputs": []
    },
    {
      "cell_type": "code",
      "metadata": {
        "id": "nqr6v8oiLWzx",
        "colab_type": "code",
        "colab": {}
      },
      "source": [
        "# print('Classification Report')\n",
        "# print(classification_report(y_test, pred_lm, target_names=['No Fraud', 'Fraud']))"
      ],
      "execution_count": 0,
      "outputs": []
    },
    {
      "cell_type": "markdown",
      "metadata": {
        "id": "OgY0rhSwexaE",
        "colab_type": "text"
      },
      "source": [
        "the accuracy is not the best metric to use when evaluating imbalanced datasets as it can be very misleading."
      ]
    },
    {
      "cell_type": "code",
      "metadata": {
        "id": "hFZPcjakMoc6",
        "colab_type": "code",
        "colab": {
          "base_uri": "https://localhost:8080/",
          "height": 136
        },
        "outputId": "6f698b0a-aac9-4d8e-c8ef-f486628f087a"
      },
      "source": [
        "from sklearn.ensemble import RandomForestClassifier\n",
        "\n",
        "# train model\n",
        "rfc = RandomForestClassifier(random_state = 42, n_estimators = 10)\n",
        "rfc.fit(X_train, y_train)"
      ],
      "execution_count": 234,
      "outputs": [
        {
          "output_type": "execute_result",
          "data": {
            "text/plain": [
              "RandomForestClassifier(bootstrap=True, class_weight=None, criterion='gini',\n",
              "                       max_depth=None, max_features='auto', max_leaf_nodes=None,\n",
              "                       min_impurity_decrease=0.0, min_impurity_split=None,\n",
              "                       min_samples_leaf=1, min_samples_split=2,\n",
              "                       min_weight_fraction_leaf=0.0, n_estimators=10,\n",
              "                       n_jobs=None, oob_score=False, random_state=42, verbose=0,\n",
              "                       warm_start=False)"
            ]
          },
          "metadata": {
            "tags": []
          },
          "execution_count": 234
        }
      ]
    },
    {
      "cell_type": "code",
      "metadata": {
        "id": "Xku3XHcwc44q",
        "colab_type": "code",
        "colab": {}
      },
      "source": [
        "# predict on test set\n",
        "#rfc_pred = rfc.predict(X_test)"
      ],
      "execution_count": 0,
      "outputs": []
    },
    {
      "cell_type": "code",
      "metadata": {
        "id": "bW9u5wapc8Oq",
        "colab_type": "code",
        "colab": {}
      },
      "source": [
        "#accuracy_score(y_test, rfc_pred)\n",
        "   "
      ],
      "execution_count": 0,
      "outputs": []
    },
    {
      "cell_type": "code",
      "metadata": {
        "id": "4ztSqD8EdAhi",
        "colab_type": "code",
        "colab": {
          "base_uri": "https://localhost:8080/",
          "height": 187
        },
        "outputId": "20e10c0f-54b8-4a79-e3ef-3d6f17effea2"
      },
      "source": [
        "from sklearn.metrics import classification_report\n",
        "\n",
        "print('Classification Report')\n",
        "print(classification_report(y_test, rfc_pred, target_names=['No Fraud', 'Fraud']))"
      ],
      "execution_count": 254,
      "outputs": [
        {
          "output_type": "stream",
          "text": [
            "Classification Report\n",
            "              precision    recall  f1-score   support\n",
            "\n",
            "    No Fraud       1.00      1.00      1.00     19089\n",
            "       Fraud       0.94      0.75      0.84        44\n",
            "\n",
            "    accuracy                           1.00     19133\n",
            "   macro avg       0.97      0.87      0.92     19133\n",
            "weighted avg       1.00      1.00      1.00     19133\n",
            "\n"
          ],
          "name": "stdout"
        }
      ]
    },
    {
      "cell_type": "markdown",
      "metadata": {
        "id": "PEhBvXt8e8dY",
        "colab_type": "text"
      },
      "source": [
        "improvement on precision, recall and on F1 score which is better prediction."
      ]
    },
    {
      "cell_type": "code",
      "metadata": {
        "id": "7nI6bubskjEz",
        "colab_type": "code",
        "colab": {
          "base_uri": "https://localhost:8080/",
          "height": 34
        },
        "outputId": "0fb68fce-695c-4770-f64c-45b360bf3e89"
      },
      "source": [
        "test.shape"
      ],
      "execution_count": 255,
      "outputs": [
        {
          "output_type": "execute_result",
          "data": {
            "text/plain": [
              "(45019, 15)"
            ]
          },
          "metadata": {
            "tags": []
          },
          "execution_count": 255
        }
      ]
    },
    {
      "cell_type": "markdown",
      "metadata": {
        "id": "1ap0z5WMfkKo",
        "colab_type": "text"
      },
      "source": [
        "##"
      ]
    },
    {
      "cell_type": "code",
      "metadata": {
        "id": "sg5KU_pQdGYy",
        "colab_type": "code",
        "colab": {}
      },
      "source": [
        "#Submition = test[['TransactionId']]"
      ],
      "execution_count": 0,
      "outputs": []
    },
    {
      "cell_type": "code",
      "metadata": {
        "id": "G8_Yw51xf4fp",
        "colab_type": "code",
        "colab": {}
      },
      "source": [
        "#Submition['FraudResult'] = rfc_pred"
      ],
      "execution_count": 0,
      "outputs": []
    },
    {
      "cell_type": "code",
      "metadata": {
        "id": "WwNDq5fxoMda",
        "colab_type": "code",
        "colab": {}
      },
      "source": [
        "X_train, X_val, y_train, y_val = train_test_split(X, y, test_size=0.2, random_state=42)"
      ],
      "execution_count": 0,
      "outputs": []
    },
    {
      "cell_type": "code",
      "metadata": {
        "id": "excWf9AGpqzW",
        "colab_type": "code",
        "colab": {
          "base_uri": "https://localhost:8080/",
          "height": 68
        },
        "outputId": "923f6df2-8086-41aa-a415-d613d4ec1aa8"
      },
      "source": [
        "for i in [X_train, X_val, test]:\n",
        "    print(i.shape)"
      ],
      "execution_count": 277,
      "outputs": [
        {
          "output_type": "stream",
          "text": [
            "(76529, 23)\n",
            "(19133, 23)\n",
            "(45019, 15)\n"
          ],
          "name": "stdout"
        }
      ]
    },
    {
      "cell_type": "code",
      "metadata": {
        "id": "CwDEjrV5pyCG",
        "colab_type": "code",
        "colab": {}
      },
      "source": [
        "lm = LogisticRegression(penalty='l2')"
      ],
      "execution_count": 0,
      "outputs": []
    },
    {
      "cell_type": "code",
      "metadata": {
        "id": "X3vYgnCip48v",
        "colab_type": "code",
        "colab": {
          "base_uri": "https://localhost:8080/",
          "height": 156
        },
        "outputId": "f85bf39e-9590-4003-93bd-eb4f940b1891"
      },
      "source": [
        "lm.fit(X_train, y_train)"
      ],
      "execution_count": 279,
      "outputs": [
        {
          "output_type": "stream",
          "text": [
            "/usr/local/lib/python3.6/dist-packages/sklearn/linear_model/logistic.py:432: FutureWarning: Default solver will be changed to 'lbfgs' in 0.22. Specify a solver to silence this warning.\n",
            "  FutureWarning)\n"
          ],
          "name": "stderr"
        },
        {
          "output_type": "execute_result",
          "data": {
            "text/plain": [
              "LogisticRegression(C=1.0, class_weight=None, dual=False, fit_intercept=True,\n",
              "                   intercept_scaling=1, l1_ratio=None, max_iter=100,\n",
              "                   multi_class='warn', n_jobs=None, penalty='l2',\n",
              "                   random_state=None, solver='warn', tol=0.0001, verbose=0,\n",
              "                   warm_start=False)"
            ]
          },
          "metadata": {
            "tags": []
          },
          "execution_count": 279
        }
      ]
    },
    {
      "cell_type": "code",
      "metadata": {
        "id": "PbztO7yTp-dw",
        "colab_type": "code",
        "colab": {}
      },
      "source": [
        "y_pred = lm.predict(test_df)"
      ],
      "execution_count": 0,
      "outputs": []
    },
    {
      "cell_type": "code",
      "metadata": {
        "id": "-erk19aWqC-D",
        "colab_type": "code",
        "colab": {}
      },
      "source": [
        "submition = test[['TransactionId']]"
      ],
      "execution_count": 0,
      "outputs": []
    },
    {
      "cell_type": "code",
      "metadata": {
        "id": "A1r1UTJEqOkR",
        "colab_type": "code",
        "colab": {
          "base_uri": "https://localhost:8080/",
          "height": 119
        },
        "outputId": "c4ccf8aa-aecd-485a-bf8a-f27bff3d7068"
      },
      "source": [
        "submition['FraudResult'] = y_pred"
      ],
      "execution_count": 288,
      "outputs": [
        {
          "output_type": "stream",
          "text": [
            "/usr/local/lib/python3.6/dist-packages/ipykernel_launcher.py:1: SettingWithCopyWarning: \n",
            "A value is trying to be set on a copy of a slice from a DataFrame.\n",
            "Try using .loc[row_indexer,col_indexer] = value instead\n",
            "\n",
            "See the caveats in the documentation: http://pandas.pydata.org/pandas-docs/stable/indexing.html#indexing-view-versus-copy\n",
            "  \"\"\"Entry point for launching an IPython kernel.\n"
          ],
          "name": "stderr"
        }
      ]
    },
    {
      "cell_type": "code",
      "metadata": {
        "id": "VYqd42smqcGf",
        "colab_type": "code",
        "colab": {
          "base_uri": "https://localhost:8080/",
          "height": 1000
        },
        "outputId": "9d784b32-e6b5-45cf-c291-e754929d463d"
      },
      "source": [
        "submition"
      ],
      "execution_count": 289,
      "outputs": [
        {
          "output_type": "execute_result",
          "data": {
            "text/html": [
              "<div>\n",
              "<style scoped>\n",
              "    .dataframe tbody tr th:only-of-type {\n",
              "        vertical-align: middle;\n",
              "    }\n",
              "\n",
              "    .dataframe tbody tr th {\n",
              "        vertical-align: top;\n",
              "    }\n",
              "\n",
              "    .dataframe thead th {\n",
              "        text-align: right;\n",
              "    }\n",
              "</style>\n",
              "<table border=\"1\" class=\"dataframe\">\n",
              "  <thead>\n",
              "    <tr style=\"text-align: right;\">\n",
              "      <th></th>\n",
              "      <th>TransactionId</th>\n",
              "      <th>FraudResult</th>\n",
              "    </tr>\n",
              "  </thead>\n",
              "  <tbody>\n",
              "    <tr>\n",
              "      <th>0</th>\n",
              "      <td>TransactionId_50600</td>\n",
              "      <td>0.0</td>\n",
              "    </tr>\n",
              "    <tr>\n",
              "      <th>1</th>\n",
              "      <td>TransactionId_95109</td>\n",
              "      <td>0.0</td>\n",
              "    </tr>\n",
              "    <tr>\n",
              "      <th>2</th>\n",
              "      <td>TransactionId_47357</td>\n",
              "      <td>0.0</td>\n",
              "    </tr>\n",
              "    <tr>\n",
              "      <th>3</th>\n",
              "      <td>TransactionId_28185</td>\n",
              "      <td>0.0</td>\n",
              "    </tr>\n",
              "    <tr>\n",
              "      <th>4</th>\n",
              "      <td>TransactionId_22140</td>\n",
              "      <td>0.0</td>\n",
              "    </tr>\n",
              "    <tr>\n",
              "      <th>5</th>\n",
              "      <td>TransactionId_134338</td>\n",
              "      <td>0.0</td>\n",
              "    </tr>\n",
              "    <tr>\n",
              "      <th>6</th>\n",
              "      <td>TransactionId_109096</td>\n",
              "      <td>0.0</td>\n",
              "    </tr>\n",
              "    <tr>\n",
              "      <th>7</th>\n",
              "      <td>TransactionId_14249</td>\n",
              "      <td>0.0</td>\n",
              "    </tr>\n",
              "    <tr>\n",
              "      <th>8</th>\n",
              "      <td>TransactionId_69896</td>\n",
              "      <td>0.0</td>\n",
              "    </tr>\n",
              "    <tr>\n",
              "      <th>9</th>\n",
              "      <td>TransactionId_91468</td>\n",
              "      <td>0.0</td>\n",
              "    </tr>\n",
              "    <tr>\n",
              "      <th>10</th>\n",
              "      <td>TransactionId_18862</td>\n",
              "      <td>0.0</td>\n",
              "    </tr>\n",
              "    <tr>\n",
              "      <th>11</th>\n",
              "      <td>TransactionId_29342</td>\n",
              "      <td>0.0</td>\n",
              "    </tr>\n",
              "    <tr>\n",
              "      <th>12</th>\n",
              "      <td>TransactionId_116873</td>\n",
              "      <td>0.0</td>\n",
              "    </tr>\n",
              "    <tr>\n",
              "      <th>13</th>\n",
              "      <td>TransactionId_81197</td>\n",
              "      <td>0.0</td>\n",
              "    </tr>\n",
              "    <tr>\n",
              "      <th>14</th>\n",
              "      <td>TransactionId_83120</td>\n",
              "      <td>0.0</td>\n",
              "    </tr>\n",
              "    <tr>\n",
              "      <th>15</th>\n",
              "      <td>TransactionId_40882</td>\n",
              "      <td>0.0</td>\n",
              "    </tr>\n",
              "    <tr>\n",
              "      <th>16</th>\n",
              "      <td>TransactionId_89297</td>\n",
              "      <td>0.0</td>\n",
              "    </tr>\n",
              "    <tr>\n",
              "      <th>17</th>\n",
              "      <td>TransactionId_112716</td>\n",
              "      <td>0.0</td>\n",
              "    </tr>\n",
              "    <tr>\n",
              "      <th>18</th>\n",
              "      <td>TransactionId_61794</td>\n",
              "      <td>0.0</td>\n",
              "    </tr>\n",
              "    <tr>\n",
              "      <th>19</th>\n",
              "      <td>TransactionId_124957</td>\n",
              "      <td>0.0</td>\n",
              "    </tr>\n",
              "    <tr>\n",
              "      <th>20</th>\n",
              "      <td>TransactionId_105927</td>\n",
              "      <td>0.0</td>\n",
              "    </tr>\n",
              "    <tr>\n",
              "      <th>21</th>\n",
              "      <td>TransactionId_23455</td>\n",
              "      <td>0.0</td>\n",
              "    </tr>\n",
              "    <tr>\n",
              "      <th>22</th>\n",
              "      <td>TransactionId_44325</td>\n",
              "      <td>0.0</td>\n",
              "    </tr>\n",
              "    <tr>\n",
              "      <th>23</th>\n",
              "      <td>TransactionId_121440</td>\n",
              "      <td>0.0</td>\n",
              "    </tr>\n",
              "    <tr>\n",
              "      <th>24</th>\n",
              "      <td>TransactionId_72401</td>\n",
              "      <td>0.0</td>\n",
              "    </tr>\n",
              "    <tr>\n",
              "      <th>25</th>\n",
              "      <td>TransactionId_122323</td>\n",
              "      <td>0.0</td>\n",
              "    </tr>\n",
              "    <tr>\n",
              "      <th>26</th>\n",
              "      <td>TransactionId_100360</td>\n",
              "      <td>0.0</td>\n",
              "    </tr>\n",
              "    <tr>\n",
              "      <th>27</th>\n",
              "      <td>TransactionId_121720</td>\n",
              "      <td>0.0</td>\n",
              "    </tr>\n",
              "    <tr>\n",
              "      <th>28</th>\n",
              "      <td>TransactionId_121119</td>\n",
              "      <td>0.0</td>\n",
              "    </tr>\n",
              "    <tr>\n",
              "      <th>29</th>\n",
              "      <td>TransactionId_39420</td>\n",
              "      <td>0.0</td>\n",
              "    </tr>\n",
              "    <tr>\n",
              "      <th>...</th>\n",
              "      <td>...</td>\n",
              "      <td>...</td>\n",
              "    </tr>\n",
              "    <tr>\n",
              "      <th>44989</th>\n",
              "      <td>TransactionId_59036</td>\n",
              "      <td>0.0</td>\n",
              "    </tr>\n",
              "    <tr>\n",
              "      <th>44990</th>\n",
              "      <td>TransactionId_73940</td>\n",
              "      <td>0.0</td>\n",
              "    </tr>\n",
              "    <tr>\n",
              "      <th>44991</th>\n",
              "      <td>TransactionId_71759</td>\n",
              "      <td>0.0</td>\n",
              "    </tr>\n",
              "    <tr>\n",
              "      <th>44992</th>\n",
              "      <td>TransactionId_124192</td>\n",
              "      <td>0.0</td>\n",
              "    </tr>\n",
              "    <tr>\n",
              "      <th>44993</th>\n",
              "      <td>TransactionId_58380</td>\n",
              "      <td>0.0</td>\n",
              "    </tr>\n",
              "    <tr>\n",
              "      <th>44994</th>\n",
              "      <td>TransactionId_116667</td>\n",
              "      <td>0.0</td>\n",
              "    </tr>\n",
              "    <tr>\n",
              "      <th>44995</th>\n",
              "      <td>TransactionId_60819</td>\n",
              "      <td>0.0</td>\n",
              "    </tr>\n",
              "    <tr>\n",
              "      <th>44996</th>\n",
              "      <td>TransactionId_74223</td>\n",
              "      <td>0.0</td>\n",
              "    </tr>\n",
              "    <tr>\n",
              "      <th>44997</th>\n",
              "      <td>TransactionId_56817</td>\n",
              "      <td>0.0</td>\n",
              "    </tr>\n",
              "    <tr>\n",
              "      <th>44998</th>\n",
              "      <td>TransactionId_138266</td>\n",
              "      <td>0.0</td>\n",
              "    </tr>\n",
              "    <tr>\n",
              "      <th>44999</th>\n",
              "      <td>TransactionId_17145</td>\n",
              "      <td>0.0</td>\n",
              "    </tr>\n",
              "    <tr>\n",
              "      <th>45000</th>\n",
              "      <td>TransactionId_42734</td>\n",
              "      <td>0.0</td>\n",
              "    </tr>\n",
              "    <tr>\n",
              "      <th>45001</th>\n",
              "      <td>TransactionId_51760</td>\n",
              "      <td>0.0</td>\n",
              "    </tr>\n",
              "    <tr>\n",
              "      <th>45002</th>\n",
              "      <td>TransactionId_62677</td>\n",
              "      <td>0.0</td>\n",
              "    </tr>\n",
              "    <tr>\n",
              "      <th>45003</th>\n",
              "      <td>TransactionId_14643</td>\n",
              "      <td>0.0</td>\n",
              "    </tr>\n",
              "    <tr>\n",
              "      <th>45004</th>\n",
              "      <td>TransactionId_34876</td>\n",
              "      <td>0.0</td>\n",
              "    </tr>\n",
              "    <tr>\n",
              "      <th>45005</th>\n",
              "      <td>TransactionId_9981</td>\n",
              "      <td>0.0</td>\n",
              "    </tr>\n",
              "    <tr>\n",
              "      <th>45006</th>\n",
              "      <td>TransactionId_31273</td>\n",
              "      <td>0.0</td>\n",
              "    </tr>\n",
              "    <tr>\n",
              "      <th>45007</th>\n",
              "      <td>TransactionId_68650</td>\n",
              "      <td>0.0</td>\n",
              "    </tr>\n",
              "    <tr>\n",
              "      <th>45008</th>\n",
              "      <td>TransactionId_2604</td>\n",
              "      <td>0.0</td>\n",
              "    </tr>\n",
              "    <tr>\n",
              "      <th>45009</th>\n",
              "      <td>TransactionId_46151</td>\n",
              "      <td>0.0</td>\n",
              "    </tr>\n",
              "    <tr>\n",
              "      <th>45010</th>\n",
              "      <td>TransactionId_109121</td>\n",
              "      <td>0.0</td>\n",
              "    </tr>\n",
              "    <tr>\n",
              "      <th>45011</th>\n",
              "      <td>TransactionId_30094</td>\n",
              "      <td>0.0</td>\n",
              "    </tr>\n",
              "    <tr>\n",
              "      <th>45012</th>\n",
              "      <td>TransactionId_73077</td>\n",
              "      <td>0.0</td>\n",
              "    </tr>\n",
              "    <tr>\n",
              "      <th>45013</th>\n",
              "      <td>TransactionId_135846</td>\n",
              "      <td>0.0</td>\n",
              "    </tr>\n",
              "    <tr>\n",
              "      <th>45014</th>\n",
              "      <td>TransactionId_116198</td>\n",
              "      <td>0.0</td>\n",
              "    </tr>\n",
              "    <tr>\n",
              "      <th>45015</th>\n",
              "      <td>TransactionId_24829</td>\n",
              "      <td>0.0</td>\n",
              "    </tr>\n",
              "    <tr>\n",
              "      <th>45016</th>\n",
              "      <td>TransactionId_102920</td>\n",
              "      <td>0.0</td>\n",
              "    </tr>\n",
              "    <tr>\n",
              "      <th>45017</th>\n",
              "      <td>TransactionId_128439</td>\n",
              "      <td>0.0</td>\n",
              "    </tr>\n",
              "    <tr>\n",
              "      <th>45018</th>\n",
              "      <td>TransactionId_45927</td>\n",
              "      <td>0.0</td>\n",
              "    </tr>\n",
              "  </tbody>\n",
              "</table>\n",
              "<p>45019 rows × 2 columns</p>\n",
              "</div>"
            ],
            "text/plain": [
              "              TransactionId  FraudResult\n",
              "0       TransactionId_50600          0.0\n",
              "1       TransactionId_95109          0.0\n",
              "2       TransactionId_47357          0.0\n",
              "3       TransactionId_28185          0.0\n",
              "4       TransactionId_22140          0.0\n",
              "5      TransactionId_134338          0.0\n",
              "6      TransactionId_109096          0.0\n",
              "7       TransactionId_14249          0.0\n",
              "8       TransactionId_69896          0.0\n",
              "9       TransactionId_91468          0.0\n",
              "10      TransactionId_18862          0.0\n",
              "11      TransactionId_29342          0.0\n",
              "12     TransactionId_116873          0.0\n",
              "13      TransactionId_81197          0.0\n",
              "14      TransactionId_83120          0.0\n",
              "15      TransactionId_40882          0.0\n",
              "16      TransactionId_89297          0.0\n",
              "17     TransactionId_112716          0.0\n",
              "18      TransactionId_61794          0.0\n",
              "19     TransactionId_124957          0.0\n",
              "20     TransactionId_105927          0.0\n",
              "21      TransactionId_23455          0.0\n",
              "22      TransactionId_44325          0.0\n",
              "23     TransactionId_121440          0.0\n",
              "24      TransactionId_72401          0.0\n",
              "25     TransactionId_122323          0.0\n",
              "26     TransactionId_100360          0.0\n",
              "27     TransactionId_121720          0.0\n",
              "28     TransactionId_121119          0.0\n",
              "29      TransactionId_39420          0.0\n",
              "...                     ...          ...\n",
              "44989   TransactionId_59036          0.0\n",
              "44990   TransactionId_73940          0.0\n",
              "44991   TransactionId_71759          0.0\n",
              "44992  TransactionId_124192          0.0\n",
              "44993   TransactionId_58380          0.0\n",
              "44994  TransactionId_116667          0.0\n",
              "44995   TransactionId_60819          0.0\n",
              "44996   TransactionId_74223          0.0\n",
              "44997   TransactionId_56817          0.0\n",
              "44998  TransactionId_138266          0.0\n",
              "44999   TransactionId_17145          0.0\n",
              "45000   TransactionId_42734          0.0\n",
              "45001   TransactionId_51760          0.0\n",
              "45002   TransactionId_62677          0.0\n",
              "45003   TransactionId_14643          0.0\n",
              "45004   TransactionId_34876          0.0\n",
              "45005    TransactionId_9981          0.0\n",
              "45006   TransactionId_31273          0.0\n",
              "45007   TransactionId_68650          0.0\n",
              "45008    TransactionId_2604          0.0\n",
              "45009   TransactionId_46151          0.0\n",
              "45010  TransactionId_109121          0.0\n",
              "45011   TransactionId_30094          0.0\n",
              "45012   TransactionId_73077          0.0\n",
              "45013  TransactionId_135846          0.0\n",
              "45014  TransactionId_116198          0.0\n",
              "45015   TransactionId_24829          0.0\n",
              "45016  TransactionId_102920          0.0\n",
              "45017  TransactionId_128439          0.0\n",
              "45018   TransactionId_45927          0.0\n",
              "\n",
              "[45019 rows x 2 columns]"
            ]
          },
          "metadata": {
            "tags": []
          },
          "execution_count": 289
        }
      ]
    },
    {
      "cell_type": "code",
      "metadata": {
        "id": "oGL4WXy9q8LP",
        "colab_type": "code",
        "colab": {
          "base_uri": "https://localhost:8080/",
          "height": 190
        },
        "outputId": "182d78ff-65f7-4d72-933a-a50360a8cc34"
      },
      "source": [
        "# Fiting the rf model\n",
        "rf.fit(X_train, y_train)"
      ],
      "execution_count": 296,
      "outputs": [
        {
          "output_type": "stream",
          "text": [
            "/usr/local/lib/python3.6/dist-packages/sklearn/ensemble/forest.py:245: FutureWarning: The default value of n_estimators will change from 10 in version 0.20 to 100 in 0.22.\n",
            "  \"10 in version 0.20 to 100 in 0.22.\", FutureWarning)\n"
          ],
          "name": "stderr"
        },
        {
          "output_type": "execute_result",
          "data": {
            "text/plain": [
              "RandomForestClassifier(bootstrap=True, class_weight=None, criterion='gini',\n",
              "                       max_depth=None, max_features='auto', max_leaf_nodes=None,\n",
              "                       min_impurity_decrease=0.0, min_impurity_split=None,\n",
              "                       min_samples_leaf=1, min_samples_split=2,\n",
              "                       min_weight_fraction_leaf=0.0, n_estimators=10,\n",
              "                       n_jobs=None, oob_score=False, random_state=42, verbose=0,\n",
              "                       warm_start=False)"
            ]
          },
          "metadata": {
            "tags": []
          },
          "execution_count": 296
        }
      ]
    },
    {
      "cell_type": "code",
      "metadata": {
        "id": "qKNDZUeGqxW_",
        "colab_type": "code",
        "colab": {}
      },
      "source": [
        "# Predict the y values\n",
        "y_pred = rf.predict(test_df)"
      ],
      "execution_count": 0,
      "outputs": []
    },
    {
      "cell_type": "code",
      "metadata": {
        "id": "2uYyfUwhq0S3",
        "colab_type": "code",
        "colab": {}
      },
      "source": [
        "Submition1 = test[['TransactionId']]"
      ],
      "execution_count": 0,
      "outputs": []
    },
    {
      "cell_type": "code",
      "metadata": {
        "id": "HqzVBjyerRCv",
        "colab_type": "code",
        "colab": {
          "base_uri": "https://localhost:8080/",
          "height": 119
        },
        "outputId": "e18ab21d-d9e0-4aa2-8af0-fd9a574b1f61"
      },
      "source": [
        "Submition1['FraaudResult'] = y_pred"
      ],
      "execution_count": 300,
      "outputs": [
        {
          "output_type": "stream",
          "text": [
            "/usr/local/lib/python3.6/dist-packages/ipykernel_launcher.py:1: SettingWithCopyWarning: \n",
            "A value is trying to be set on a copy of a slice from a DataFrame.\n",
            "Try using .loc[row_indexer,col_indexer] = value instead\n",
            "\n",
            "See the caveats in the documentation: http://pandas.pydata.org/pandas-docs/stable/indexing.html#indexing-view-versus-copy\n",
            "  \"\"\"Entry point for launching an IPython kernel.\n"
          ],
          "name": "stderr"
        }
      ]
    },
    {
      "cell_type": "code",
      "metadata": {
        "id": "C9Dzmqj2rcX_",
        "colab_type": "code",
        "colab": {}
      },
      "source": [
        "Submition1.to_csv('Submition1.csv', index = False)"
      ],
      "execution_count": 0,
      "outputs": []
    },
    {
      "cell_type": "code",
      "metadata": {
        "id": "L-AvbpPlrmn0",
        "colab_type": "code",
        "colab": {
          "base_uri": "https://localhost:8080/",
          "height": 204
        },
        "outputId": "042dc068-e985-4f9e-e7bf-a6301a76956d"
      },
      "source": [
        "Submition1.head()"
      ],
      "execution_count": 303,
      "outputs": [
        {
          "output_type": "execute_result",
          "data": {
            "text/html": [
              "<div>\n",
              "<style scoped>\n",
              "    .dataframe tbody tr th:only-of-type {\n",
              "        vertical-align: middle;\n",
              "    }\n",
              "\n",
              "    .dataframe tbody tr th {\n",
              "        vertical-align: top;\n",
              "    }\n",
              "\n",
              "    .dataframe thead th {\n",
              "        text-align: right;\n",
              "    }\n",
              "</style>\n",
              "<table border=\"1\" class=\"dataframe\">\n",
              "  <thead>\n",
              "    <tr style=\"text-align: right;\">\n",
              "      <th></th>\n",
              "      <th>TransactionId</th>\n",
              "      <th>FraaudResult</th>\n",
              "    </tr>\n",
              "  </thead>\n",
              "  <tbody>\n",
              "    <tr>\n",
              "      <th>0</th>\n",
              "      <td>TransactionId_50600</td>\n",
              "      <td>0.0</td>\n",
              "    </tr>\n",
              "    <tr>\n",
              "      <th>1</th>\n",
              "      <td>TransactionId_95109</td>\n",
              "      <td>0.0</td>\n",
              "    </tr>\n",
              "    <tr>\n",
              "      <th>2</th>\n",
              "      <td>TransactionId_47357</td>\n",
              "      <td>0.0</td>\n",
              "    </tr>\n",
              "    <tr>\n",
              "      <th>3</th>\n",
              "      <td>TransactionId_28185</td>\n",
              "      <td>0.0</td>\n",
              "    </tr>\n",
              "    <tr>\n",
              "      <th>4</th>\n",
              "      <td>TransactionId_22140</td>\n",
              "      <td>0.0</td>\n",
              "    </tr>\n",
              "  </tbody>\n",
              "</table>\n",
              "</div>"
            ],
            "text/plain": [
              "         TransactionId  FraaudResult\n",
              "0  TransactionId_50600           0.0\n",
              "1  TransactionId_95109           0.0\n",
              "2  TransactionId_47357           0.0\n",
              "3  TransactionId_28185           0.0\n",
              "4  TransactionId_22140           0.0"
            ]
          },
          "metadata": {
            "tags": []
          },
          "execution_count": 303
        }
      ]
    },
    {
      "cell_type": "code",
      "metadata": {
        "id": "jgQJyGQDr9O_",
        "colab_type": "code",
        "colab": {}
      },
      "source": [
        ""
      ],
      "execution_count": 0,
      "outputs": []
    }
  ]
}